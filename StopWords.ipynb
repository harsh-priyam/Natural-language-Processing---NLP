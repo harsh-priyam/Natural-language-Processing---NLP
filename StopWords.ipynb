{
  "nbformat": 4,
  "nbformat_minor": 0,
  "metadata": {
    "colab": {
      "provenance": []
    },
    "kernelspec": {
      "name": "python3",
      "display_name": "Python 3"
    },
    "language_info": {
      "name": "python"
    }
  },
  "cells": [
    {
      "cell_type": "code",
      "execution_count": 1,
      "metadata": {
        "colab": {
          "base_uri": "https://localhost:8080/"
        },
        "id": "0-CzTneEH4fu",
        "outputId": "fb809552-d50f-4af2-ffe0-7781537d630a"
      },
      "outputs": [
        {
          "output_type": "stream",
          "name": "stderr",
          "text": [
            "/usr/local/lib/python3.8/dist-packages/torch/cuda/__init__.py:497: UserWarning: Can't initialize NVML\n",
            "  warnings.warn(\"Can't initialize NVML\")\n"
          ]
        }
      ],
      "source": [
        "import spacy"
      ]
    },
    {
      "cell_type": "code",
      "source": [
        "nlp = spacy.load('en_core_web_sm')"
      ],
      "metadata": {
        "id": "fNsow3uXIz_o"
      },
      "execution_count": 2,
      "outputs": []
    },
    {
      "cell_type": "code",
      "source": [
        "print(nlp.Defaults.stop_words)"
      ],
      "metadata": {
        "colab": {
          "base_uri": "https://localhost:8080/"
        },
        "id": "2Q757NhlI5Tm",
        "outputId": "7bc74aa0-01f6-4620-e426-ed657221201c"
      },
      "execution_count": 3,
      "outputs": [
        {
          "output_type": "stream",
          "name": "stdout",
          "text": [
            "{'across', 'about', 'regarding', 'fifteen', 'much', 're', '‘ve', 'go', \"'ll\", 'moreover', 'otherwise', 'make', 'wherein', 'eleven', 'whatever', 'full', 'through', 'almost', 'its', 'around', 'see', 'those', 'for', 'all', 'some', 'forty', 'every', 'two', 'hundred', 'but', 'please', 'amount', 'everything', 'whole', \"'ve\", 'itself', 'becoming', 'beyond', '‘d', 'though', 'ten', 'can', 'out', 'toward', 'before', 'or', 'even', 'with', 'been', 'most', 'however', 'using', 'really', 'up', 'became', 'name', 'anyway', 'i', 'therein', 'of', 'yourselves', 'keep', 'and', 'back', 'you', 'such', '‘re', 'sometime', 'thereupon', 'alone', 'on', 'whether', 'here', 'get', 'meanwhile', 'mostly', 'upon', 'do', 'into', 'eight', '’s', 'than', 'towards', 'were', 'various', 'twelve', 'few', 'to', 'serious', 'me', 'their', 'ever', 'off', 'mine', 'when', 'formerly', 'herein', 'anyhow', 'thereby', 'whereby', 'since', 'the', 'we', 'whom', \"'d\", 'each', 'further', 'whenever', 'too', 'top', 'whither', 'along', 'nor', 'once', 'n‘t', 'show', 'they', 'not', 'somewhere', 'this', 'nowhere', 'these', 'yet', 'nevertheless', 'whoever', 'what', 'sixty', 'nobody', 'hence', 'else', 'my', 'anyone', 'being', 'one', 'her', 'could', 'amongst', 'indeed', 'myself', 'ca', 'just', 'after', 'whereafter', 'only', 'so', 'becomes', 'move', 'hereby', 'already', 'while', 'again', 'rather', 'does', 'onto', 'then', 'ourselves', 'neither', \"n't\", 'often', 'where', 'except', 'put', 'together', '’m', 'above', 'during', 'many', 'hereupon', \"'m\", 'has', 'until', 'an', 'under', 'may', 'as', 'within', 'latterly', 'everyone', 'from', 'sometimes', 'six', 'hers', 'himself', 'who', 'quite', 'last', 'thereafter', 'hereafter', 'per', 'afterwards', 'seems', 'themselves', 'via', 'did', 'front', 'must', 'any', 'in', 'thru', 'below', 'it', 'give', '’ve', '’re', '‘ll', 'between', 'n’t', \"'s\", 'your', 'fifty', 'behind', 'others', 'side', 'am', 'namely', 'whence', 'take', 'no', 'unless', 'less', 'noone', 'both', 'seeming', 'be', 'is', 'well', 'seem', 'against', 'several', 'twenty', 'therefore', 'ours', 'there', 'everywhere', 'yourself', 'them', 'that', 'are', 'down', 'if', 'beside', 'latter', '‘s', 'beforehand', 'bottom', 'by', 'five', 'enough', 'whereas', 'whose', '’d', 'other', 'least', 'a', 'another', 'former', 'have', 'four', 'had', 'herself', 'thus', 'besides', 'anything', 'although', 'him', '‘m', 'his', 'without', '’ll', 'none', 'done', 'third', 'say', \"'re\", 'become', 'doing', 'never', 'which', 'whereupon', 'still', 'something', 'our', 'elsewhere', 'wherever', 'used', 'empty', 'was', 'among', 'anywhere', 'seemed', 'very', 'same', 'nine', 'would', 'cannot', 'more', 'also', 'first', 'might', 'thence', 'us', 'now', 'someone', 'over', 'how', 'perhaps', 'somehow', 'call', 'yours', 'will', 'three', 'always', 'because', 'either', 'he', 'nothing', 'should', 'made', 'why', 'part', 'she', 'at', 'own', 'due', 'next', 'throughout'}\n"
          ]
        }
      ]
    },
    {
      "cell_type": "code",
      "source": [
        "len(nlp.Defaults.stop_words)"
      ],
      "metadata": {
        "colab": {
          "base_uri": "https://localhost:8080/"
        },
        "id": "qdBV6tAgI_-N",
        "outputId": "bd00f167-2ab7-4681-a87f-0d6e198740ce"
      },
      "execution_count": 4,
      "outputs": [
        {
          "output_type": "execute_result",
          "data": {
            "text/plain": [
              "326"
            ]
          },
          "metadata": {},
          "execution_count": 4
        }
      ]
    },
    {
      "cell_type": "code",
      "source": [
        "nlp.vocab['mystery'].is_stop"
      ],
      "metadata": {
        "colab": {
          "base_uri": "https://localhost:8080/"
        },
        "id": "c4PwQ4bgJKFb",
        "outputId": "3ca94c30-590c-48be-f417-0297f5a7e0fe"
      },
      "execution_count": 5,
      "outputs": [
        {
          "output_type": "execute_result",
          "data": {
            "text/plain": [
              "False"
            ]
          },
          "metadata": {},
          "execution_count": 5
        }
      ]
    },
    {
      "cell_type": "code",
      "source": [
        "nlp.Defaults.stop_words.add('btw')"
      ],
      "metadata": {
        "id": "qwfZ3-2sJ-vm"
      },
      "execution_count": 6,
      "outputs": []
    },
    {
      "cell_type": "code",
      "source": [
        "nlp.vocab['btw'].is_stop = True"
      ],
      "metadata": {
        "id": "oSXd0Q2LKEji"
      },
      "execution_count": 7,
      "outputs": []
    },
    {
      "cell_type": "code",
      "source": [
        "len(nlp.Defaults.stop_words)"
      ],
      "metadata": {
        "colab": {
          "base_uri": "https://localhost:8080/"
        },
        "id": "5fjIid6NKMl3",
        "outputId": "f19b3b9a-4a87-4d6f-db20-40817dcdcebb"
      },
      "execution_count": 8,
      "outputs": [
        {
          "output_type": "execute_result",
          "data": {
            "text/plain": [
              "327"
            ]
          },
          "metadata": {},
          "execution_count": 8
        }
      ]
    },
    {
      "cell_type": "code",
      "source": [
        "nlp.vocab['btw'].is_stop"
      ],
      "metadata": {
        "colab": {
          "base_uri": "https://localhost:8080/"
        },
        "id": "IYBbzUaSKQPu",
        "outputId": "349b8c08-2cf7-4728-a30a-c88c4a22711b"
      },
      "execution_count": 9,
      "outputs": [
        {
          "output_type": "execute_result",
          "data": {
            "text/plain": [
              "True"
            ]
          },
          "metadata": {},
          "execution_count": 9
        }
      ]
    },
    {
      "cell_type": "code",
      "source": [
        "nlp.Defaults.stop_words.remove('beyond')"
      ],
      "metadata": {
        "id": "Kz7MKrcWKXvA"
      },
      "execution_count": 10,
      "outputs": []
    },
    {
      "cell_type": "code",
      "source": [
        "nlp.vocab['beyond'].is_stop = False"
      ],
      "metadata": {
        "id": "lOyu8OYTKhUO"
      },
      "execution_count": 12,
      "outputs": []
    },
    {
      "cell_type": "code",
      "source": [
        "nlp.vocab['beyond'].is_stop"
      ],
      "metadata": {
        "colab": {
          "base_uri": "https://localhost:8080/"
        },
        "id": "oAMjcouEKmfO",
        "outputId": "2087f325-6bd7-44cf-b3f9-6316f37f207e"
      },
      "execution_count": 13,
      "outputs": [
        {
          "output_type": "execute_result",
          "data": {
            "text/plain": [
              "False"
            ]
          },
          "metadata": {},
          "execution_count": 13
        }
      ]
    },
    {
      "cell_type": "code",
      "source": [],
      "metadata": {
        "id": "rNSFSt3yKsez"
      },
      "execution_count": null,
      "outputs": []
    }
  ]
}